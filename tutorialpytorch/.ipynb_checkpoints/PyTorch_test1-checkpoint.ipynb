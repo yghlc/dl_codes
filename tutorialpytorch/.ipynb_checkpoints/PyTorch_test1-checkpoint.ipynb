{
 "cells": [
  {
   "cell_type": "code",
   "execution_count": 3,
   "metadata": {
    "collapsed": false
   },
   "outputs": [
    {
     "name": "stdout",
     "output_type": "stream",
     "text": [
      "[[ 760.28485107  755.80877686  769.12353516 ...,  747.31304932\n",
      "   749.02783203  772.4574585 ]\n",
      " [ 738.23382568  738.88726807  754.15246582 ...,  723.51306152\n",
      "   735.03411865  762.37823486]\n",
      " [ 751.79248047  751.60797119  745.97052002 ...,  738.4151001   747.88348389\n",
      "   765.30963135]\n",
      " ..., \n",
      " [ 747.27416992  734.97509766  746.22973633 ...,  736.03820801\n",
      "   735.44897461  768.32531738]\n",
      " [ 753.84381104  742.17492676  749.16882324 ...,  737.62670898\n",
      "   740.72503662  777.70690918]\n",
      " [ 745.71789551  739.22265625  755.43243408 ...,  726.22271729\n",
      "   737.46331787  764.44207764]]\n"
     ]
    }
   ],
   "source": [
    "from __future__ import print_function\n",
    "import torch\n",
    "from torch import nn\n",
    "from torch.autograd import Variable\n",
    "from torch.utils.data import DataLoader\n",
    "# from torchvision import datasets\n",
    "# from torchvision import transforms\n",
    "\n",
    "import numpy as np\n",
    "import torch\n",
    "\n",
    "d =3000\n",
    "\n",
    "#using numpy\n",
    "A = np.random.rand(d,d).astype(np.float32)\n",
    "B = np.random.rand(d,d).astype(np.float32)\n",
    "C = A.dot(B)\n",
    "print(C)\n",
    "\n",
    "# A = torch.rand(d,d).cuda()\n",
    "# B = torch.rand(d,d).cuda()\n",
    "# C = torch.mm(A,B)\n",
    "# print(C)\n"
   ]
  },
  {
   "cell_type": "code",
   "execution_count": null,
   "metadata": {
    "collapsed": true
   },
   "outputs": [],
   "source": []
  }
 ],
 "metadata": {
  "kernelspec": {
   "display_name": "Python 3",
   "language": "python",
   "name": "python3"
  },
  "language_info": {
   "codemirror_mode": {
    "name": "ipython",
    "version": 3
   },
   "file_extension": ".py",
   "mimetype": "text/x-python",
   "name": "python",
   "nbconvert_exporter": "python",
   "pygments_lexer": "ipython3",
   "version": "3.6.0"
  }
 },
 "nbformat": 4,
 "nbformat_minor": 2
}
